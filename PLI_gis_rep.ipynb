{
 "cells": [
  {
   "cell_type": "markdown",
   "metadata": {},
   "source": [
    "***\n",
    "\n",
    "## Running some test"
   ]
  },
  {
   "cell_type": "code",
   "execution_count": null,
   "metadata": {},
   "outputs": [],
   "source": [
    "import pandas as pd\n",
    "\n",
    "import folium"
   ]
  },
  {
   "cell_type": "code",
   "execution_count": null,
   "metadata": {},
   "outputs": [],
   "source": [
    "sites = pd.read_excel(\"PLI Master List for Monday.xlsx\")\n",
    "\n",
    "latitude = []\n",
    "longitude = []\n",
    "for i in sites.Location:\n",
    "    lat, longg = i.split(',')\n",
    "    latitude.append(float(lat))\n",
    "    longitude.append(float(longg))\n",
    "\n",
    "sites['longitude'] = longitude\n",
    "sites['latitude'] = latitude\n",
    "\n",
    "init_pos = [sites.latitude.mean(), sites.longitude.mean()]\n",
    "\n",
    "print(init_pos)"
   ]
  },
  {
   "cell_type": "code",
   "execution_count": null,
   "metadata": {},
   "outputs": [],
   "source": [
    "maps = folium.Map(location = init_pos, zoom_start=5)\n",
    "\n",
    "tcE = sites[sites.Client =='TC Energy'].copy()\n",
    "TNPI = sites[sites.Client =='TNPI'].copy()\n",
    "\n",
    "for i, t in tcE.iterrows():\n",
    "    #print([t.latitude, t.longitude], t['Site Name'])\n",
    "    folium.Marker([t.latitude, t.longitude], popup=t['Site Name'], icon=folium.Icon(color='green', icon='TCE')).add_to(maps)\n",
    "\n",
    "for ii, i in TNPI.iterrows():\n",
    "    folium.Marker([i.latitude, i.longitude], popup=i['Site Name'], icon=folium.Icon(color='red', icon='TNPI')).add_to(maps)\n",
    "    \n",
    "maps"
   ]
  }
 ],
 "metadata": {
  "language_info": {
   "name": "python"
  },
  "orig_nbformat": 4
 },
 "nbformat": 4,
 "nbformat_minor": 2
}
